{
 "cells": [
  {
   "cell_type": "markdown",
   "id": "e58a65fe-bfaf-438c-90b2-2bf8fb2c3876",
   "metadata": {},
   "source": [
    "# Data Science Tools and Ecosystem "
   ]
  },
  {
   "cell_type": "markdown",
   "id": "8470890d-a864-4167-8807-d0be6bce44fc",
   "metadata": {},
   "source": [
    "In this notebook, Data Science Tools and Ecosystem are summarized."
   ]
  },
  {
   "cell_type": "markdown",
   "id": "313b01db-0df9-496c-9bb4-e7b98a08b7eb",
   "metadata": {},
   "source": [
    "Some of the popular languages that Data Scientists use are:\n",
    "1. Python\n",
    "2. Ruby\n",
    "3. Java"
   ]
  },
  {
   "cell_type": "markdown",
   "id": "081357db-37f0-4678-9d67-e508280b1f81",
   "metadata": {},
   "source": [
    "Some of the commonly used libraries used by Data Scientists include:\n",
    "\n",
    "1. numpy\n",
    "2. tensorflow\n",
    "3. panda"
   ]
  },
  {
   "cell_type": "markdown",
   "id": "7beb595c-4bbf-4a54-8260-559135b0ce1e",
   "metadata": {},
   "source": [
    "|data science tools|\n",
    "|:--------:|\n",
    "| hadook | \n",
    "|  apache   | \n",
    "|  github |"
   ]
  },
  {
   "cell_type": "markdown",
   "id": "71d8423a-5426-45b1-a896-602ae07a3a7f",
   "metadata": {},
   "source": [
    "Below are a few examples of evaluating arithmetic expressions in Python.\n"
   ]
  },
  {
   "cell_type": "code",
   "execution_count": 1,
   "id": "4b11a7b5-870c-4a91-ab20-a915dd730391",
   "metadata": {},
   "outputs": [
    {
     "data": {
      "text/plain": [
       "17"
      ]
     },
     "execution_count": 1,
     "metadata": {},
     "output_type": "execute_result"
    }
   ],
   "source": [
    "# This a simple arithmetic expression to mutiply then add integers\n",
    "(3*4)+5"
   ]
  },
  {
   "cell_type": "code",
   "execution_count": 3,
   "id": "cfeb29a9-2d39-40c2-b576-33ecf2806acf",
   "metadata": {},
   "outputs": [
    {
     "name": "stdout",
     "output_type": "stream",
     "text": [
      "3.3333333333333335\n"
     ]
    }
   ],
   "source": [
    "#this will make minutes into hours by dividing by 60\n",
    "minutes = float(200)\n",
    "hours = minutes/60\n",
    "\n",
    "print(hours)"
   ]
  },
  {
   "cell_type": "markdown",
   "id": "9a9ee93b-4200-4b4c-a02c-db882bcf8792",
   "metadata": {},
   "source": [
    "Objectives\n",
    "- minutes to hours\n",
    "- simple arithmatic\n",
    "- making tables\n",
    "- headers\n",
    "\n"
   ]
  },
  {
   "cell_type": "markdown",
   "id": "1ecb5d88-4274-4a5f-90be-6122b632b91c",
   "metadata": {},
   "source": [
    "## Author\n",
    "yash"
   ]
  },
  {
   "cell_type": "code",
   "execution_count": null,
   "id": "f8a69547-f46a-4a90-8a87-5a43b7f77981",
   "metadata": {},
   "outputs": [],
   "source": []
  }
 ],
 "metadata": {
  "kernelspec": {
   "display_name": "Python 3 (ipykernel)",
   "language": "python",
   "name": "python3"
  },
  "language_info": {
   "codemirror_mode": {
    "name": "ipython",
    "version": 3
   },
   "file_extension": ".py",
   "mimetype": "text/x-python",
   "name": "python",
   "nbconvert_exporter": "python",
   "pygments_lexer": "ipython3",
   "version": "3.11.9"
  }
 },
 "nbformat": 4,
 "nbformat_minor": 5
}
